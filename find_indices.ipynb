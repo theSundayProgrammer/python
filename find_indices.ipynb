{
 "cells": [
  {
   "cell_type": "markdown",
   "metadata": {},
   "source": [
    "# Find the indices of two values in an array that add up to a target\n"
   ]
  },
  {
   "cell_type": "markdown",
   "metadata": {},
   "source": [
    "Given an arry of integers say <code>arr</code> and a <code>target</code> find <code>i</code> and <code>j</code> such that:\n",
    "\n",
    "<code> arr[i] + arr[j] == target </code> and \n",
    "<code> i != j </code>"
   ]
  },
  {
   "cell_type": "markdown",
   "metadata": {},
   "source": [
    "The brute force solution is as follows"
   ]
  },
  {
   "cell_type": "code",
   "execution_count": 3,
   "metadata": {},
   "outputs": [
    {
     "name": "stdout",
     "output_type": "stream",
     "text": [
      "found  4  and  6\n"
     ]
    }
   ],
   "source": [
    "arr = [ 1,2,3,4,5,6,7]\n",
    "target = 12\n",
    "found = False\n",
    "n = len(arr)\n",
    "for i in range(n):\n",
    "    first_val = arr[i]\n",
    "    for j in range(i+1,n):\n",
    "        if arr[i] + arr[j] == target:\n",
    "            print (\"found \", i , \" and \", j)\n",
    "            found = True\n",
    "            break\n",
    "    if (found):\n",
    "        break"
   ]
  },
  {
   "cell_type": "markdown",
   "metadata": {},
   "source": [
    "Notice that\n",
    "<code>arr[i] + arr[j] == target <code>\n",
    "can be rewritten as \n",
    "<code>arr[j] == target - arr[i] <code>\n",
    "Since the <code>target - arr[i] <code> is independent of j it can be factored out of the loop as follows\n",
    "    \n"
   ]
  },
  {
   "cell_type": "code",
   "execution_count": 1,
   "metadata": {},
   "outputs": [
    {
     "name": "stdout",
     "output_type": "stream",
     "text": [
      "found  4  and  6\n"
     ]
    }
   ],
   "source": [
    "arr = [ 1,2,3,4,5,6,7]\n",
    "target = 12\n",
    "found = False\n",
    "n = len(arr)\n",
    "for i in range(n):\n",
    "    first_val = arr[i]\n",
    "    second_val = target - first_val\n",
    "    for j in range(i+1,n):\n",
    "        if second_val==arr[j]:\n",
    "            print (\"found \", i , \" and \", j)\n",
    "            found = True\n",
    "            break\n",
    "    if (found):\n",
    "        break"
   ]
  },
  {
   "cell_type": "markdown",
   "metadata": {},
   "source": [
    "The time complexity of the above code is O(n<sup>2</sup>). This is because there are two loops one nested inside the other which are both O(n). Since the inner loop just looks for a specific value we could optimise it if we have a sorted array or hash-map. In this case a hash-map is better we are not interested in traversing the array in some order.The resulting program is shown below"
   ]
  },
  {
   "cell_type": "code",
   "execution_count": 5,
   "metadata": {},
   "outputs": [
    {
     "name": "stdout",
     "output_type": "stream",
     "text": [
      "found  4  and  6\n"
     ]
    }
   ],
   "source": [
    "arr = [ 1,2,3,4,5,6,7]\n",
    "target = 12\n",
    "\"\"\"\n",
    "Solution\n",
    "\"\"\"\n",
    "target_map = {}\n",
    "n = len(arr)\n",
    "for i in range(n):\n",
    "    target_map[arr[i]] = i\n",
    "\n",
    "found = False\n",
    "for i in range(n):\n",
    "    first_val = arr[i]\n",
    "    second_val = target - first_val\n",
    "    found = second_val in target_map and target_map[second_val] != i\n",
    "    if (found):\n",
    "        print (\"found \", i , \" and \", target_map[second_val])\n",
    "        break\n",
    "else:\n",
    "    print (\"found none\")"
   ]
  },
  {
   "cell_type": "markdown",
   "metadata": {},
   "source": [
    "Assuming hash-map insert and lookup are O(1) time complexity the new program now has O(n) complexity overall. Notice that in this case we also have to check that <code>target_map[second_val] != i</code>. In the previous case there was no such need because we <code> j > i </code> \n",
    "    "
   ]
  }
 ],
 "metadata": {
  "kernelspec": {
   "display_name": "Python 3",
   "language": "python",
   "name": "python3"
  },
  "language_info": {
   "codemirror_mode": {
    "name": "ipython",
    "version": 3
   },
   "file_extension": ".py",
   "mimetype": "text/x-python",
   "name": "python",
   "nbconvert_exporter": "python",
   "pygments_lexer": "ipython3",
   "version": "3.7.5"
  }
 },
 "nbformat": 4,
 "nbformat_minor": 4
}
